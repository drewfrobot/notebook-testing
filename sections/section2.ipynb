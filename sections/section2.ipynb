{
 "cells": [
  {
   "cell_type": "markdown",
   "id": "49aaa10e",
   "metadata": {},
   "source": [
    "# Notebook testing"
   ]
  },
  {
   "cell_type": "markdown",
   "id": "2837bf4c",
   "metadata": {},
   "source": [
    "## Section 2"
   ]
  },
  {
   "cell_type": "markdown",
   "id": "979b8a7a",
   "metadata": {},
   "source": [
    "This is a temporary repository to test a file structure for jupyter notebooks and accompanying images/data."
   ]
  },
  {
   "cell_type": "code",
   "execution_count": null,
   "id": "9c2037c5",
   "metadata": {},
   "outputs": [],
   "source": [
    "if(!require(openxlsx)){\n",
    "    install.packages(\"openxlsx\")\n",
    "    library(openxlsx)\n",
    "}"
   ]
  },
  {
   "cell_type": "code",
   "execution_count": null,
   "id": "c1af42ba",
   "metadata": {},
   "outputs": [],
   "source": [
    "notebooktest2url <- \"https://uniskills.library.curtin.edu.au/assets/docs/Microsoft_Excel_Party_Budget_Workbook_2_48787599.xlsx\"\n",
    "notebooktesttable2 <- read.xlsx(notebooktest2url, sheet = 'Party_Budget', startRow = 1, colNames = TRUE, cols = c(3,4))\n",
    "notebooktesttable2"
   ]
  },
  {
   "cell_type": "markdown",
   "id": "68f50eb0",
   "metadata": {},
   "source": [
    "<img src='https://uniskills.library.curtin.edu.au/assets/images/r_raw.jpg' alt='R terminal console screenshot' width='40%'/>"
   ]
  }
 ],
 "metadata": {
  "kernelspec": {
   "display_name": "R",
   "language": "R",
   "name": "ir"
  },
  "language_info": {
   "codemirror_mode": "r",
   "file_extension": ".r",
   "mimetype": "text/x-r-source",
   "name": "R",
   "pygments_lexer": "r",
   "version": "4.3.0"
  }
 },
 "nbformat": 4,
 "nbformat_minor": 5
}

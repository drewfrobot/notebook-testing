{
 "cells": [
  {
   "cell_type": "markdown",
   "id": "491a0d7b",
   "metadata": {},
   "source": [
    "# Notebook testing"
   ]
  },
  {
   "cell_type": "markdown",
   "id": "7ec27eca",
   "metadata": {},
   "source": [
    "## Other page"
   ]
  },
  {
   "cell_type": "markdown",
   "id": "b5247a1e",
   "metadata": {},
   "source": [
    "Other details"
   ]
  }
 ],
 "metadata": {
  "kernelspec": {
   "display_name": "R",
   "language": "R",
   "name": "ir"
  },
  "language_info": {
   "codemirror_mode": "r",
   "file_extension": ".r",
   "mimetype": "text/x-r-source",
   "name": "R",
   "pygments_lexer": "r",
   "version": "4.3.0"
  }
 },
 "nbformat": 4,
 "nbformat_minor": 5
}

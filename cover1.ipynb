{
 "cells": [
  {
   "cell_type": "markdown",
   "id": "491a0d7b",
   "metadata": {},
   "source": [
    "# Notebook testing"
   ]
  },
  {
   "cell_type": "markdown",
   "id": "7ec27eca",
   "metadata": {},
   "source": [
    "## Cover page"
   ]
  },
  {
   "cell_type": "markdown",
   "id": "b5247a1e",
   "metadata": {},
   "source": [
    "This is a temporary repository to test a file structure for jupyter notebooks and accompanying images/data."
   ]
  },
  {
   "cell_type": "markdown",
   "id": "45da0edb",
   "metadata": {},
   "source": [
    "### Section Links\n",
    "\n",
    " - <a href=\"sections/section1.ipynb\">Section 1</a>\n",
    " - <a href=\"sections/section2.ipynb\">Section 2</a>\n"
   ]
  },
  {
   "cell_type": "markdown",
   "id": "c436a8d2",
   "metadata": {},
   "source": [
    "<img src='https://uniskills.library.curtin.edu.au/assets/images/r_leaflet.jpg' alt='R Leaflet Demonstration Tax SEIFA Postcodes' width='90%'/>"
   ]
  }
 ],
 "metadata": {
  "kernelspec": {
   "display_name": "R",
   "language": "R",
   "name": "ir"
  },
  "language_info": {
   "codemirror_mode": "r",
   "file_extension": ".r",
   "mimetype": "text/x-r-source",
   "name": "R",
   "pygments_lexer": "r",
   "version": "4.3.0"
  }
 },
 "nbformat": 4,
 "nbformat_minor": 5
}
